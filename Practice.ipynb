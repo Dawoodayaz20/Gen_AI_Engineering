{
 "cells": [
  {
   "cell_type": "code",
   "execution_count": 3,
   "metadata": {},
   "outputs": [
    {
     "name": "stdout",
     "output_type": "stream",
     "text": [
      "Hello Dawood\n"
     ]
    }
   ],
   "source": [
    "class MyClass():\n",
    "    def __init__(self, name):\n",
    "        self.name = name\n",
    "        \n",
    "    def greet(self):\n",
    "        return f\"Hello {self.name}\"\n",
    "    \n",
    "obj = MyClass(\"Dawood\")\n",
    "print(obj.greet())\n"
   ]
  },
  {
   "cell_type": "markdown",
   "metadata": {},
   "source": [
    "Abstraction Method: It means to hide a Class by making it an abstract class. It is the concept of hiding the internal details of an object and exposing only the necessary information. We use it when we want the Child classes to implement the same method in Parent Class.   "
   ]
  },
  {
   "cell_type": "code",
   "execution_count": 3,
   "metadata": {},
   "outputs": [
    {
     "data": {
      "text/plain": [
       "'I am a Elephant'"
      ]
     },
     "execution_count": 3,
     "metadata": {},
     "output_type": "execute_result"
    }
   ],
   "source": [
    "from abc import ABC, abstractmethod\n",
    "class Animal(ABC):\n",
    "    \n",
    "    @abstractmethod\n",
    "    def intro(self):\n",
    "        pass\n",
    "\n",
    "    \n",
    "class Animaltype(Animal):\n",
    "    def __init__(self, name):\n",
    "        self.name = name\n",
    "\n",
    "    def intro(self):\n",
    "        return f\"I am a {self.name}\"\n",
    "            \n",
    "PObject = Animaltype(\"Elephant\")\n",
    "PObject.intro()\n"
   ]
  },
  {
   "cell_type": "markdown",
   "metadata": {},
   "source": [
    "Encapsulation: \n",
    "1. Public: Accessible from anywhere.\n",
    "2. Protected: Meant to be accessed within the class and subclasses only.\n",
    "3. Private: Only accessible within the class itself."
   ]
  },
  {
   "cell_type": "code",
   "execution_count": 3,
   "metadata": {},
   "outputs": [
    {
     "name": "stdout",
     "output_type": "stream",
     "text": [
      "Mazda\n"
     ]
    }
   ],
   "source": [
    "#Public class:\n",
    "class Car():\n",
    "    def __init__(self,name):\n",
    "        self.name = name\n",
    "\n",
    "car1 = Car(\"Mazda\")\n",
    "print(car1.name)\n",
    "#This class(Car) has public attribute/component of name. It is accessible anywhere outside the code."
   ]
  },
  {
   "cell_type": "code",
   "execution_count": 6,
   "metadata": {},
   "outputs": [
    {
     "name": "stdout",
     "output_type": "stream",
     "text": [
      "Skyline\n",
      "2018\n"
     ]
    }
   ],
   "source": [
    "#Protected Class Attribute:\n",
    "class SCar():\n",
    "    def __init__(self, name, model):\n",
    "        self.name = name\n",
    "        self._model = model\n",
    "\n",
    "car1 = SCar(\"Skyline\", 2018)\n",
    "print(car1.name)\n",
    "print(car1._model) #name mangling\n",
    "# We wrote one attribute of class \"SCar\" with undeerscore to make it protected. We can not access it without writing it with the underscore.  \n",
    "# To access it, we have to do name mangling, it means to write it with the underscore. Otherwise it is unaccessible."
   ]
  },
  {
   "cell_type": "code",
   "execution_count": 19,
   "metadata": {},
   "outputs": [
    {
     "name": "stdout",
     "output_type": "stream",
     "text": [
      "This is Mazda CX-9 and its model is 2024\n"
     ]
    },
    {
     "data": {
      "text/plain": [
       "'Mazda CX-9 is a Sedan vehicle and its color is red and it has 6 horespower engine and its high speed is 200 mph'"
      ]
     },
     "execution_count": 19,
     "metadata": {},
     "output_type": "execute_result"
    }
   ],
   "source": [
    "class Car1():\n",
    "    def __init__(self, name, model, type, color, engine, speed):\n",
    "        self.name = name\n",
    "        self._model = model\n",
    "        self.type = type\n",
    "        self.color = color\n",
    "        self.engine = engine\n",
    "        self.speed = speed\n",
    "        \n",
    "\n",
    "\n",
    "    def intro(self):\n",
    "        return f\"This is {self.name} and its model is {self._model}\"\n",
    "    \n",
    "    def specs(self):\n",
    "        return f\"{self.name} is a {self.type} vehicle and its color is {self.color} and it has {self.engine} and its high speed is {self.speed} mph\"\n",
    "    \n",
    "Sports_car = Car1(\"Mazda CX-9\", 2024, \"Sedan\", \"red\", \"6 horespower engine\", 200)\n",
    "\n",
    "print(Sports_car.intro())\n",
    "\n",
    "Sports_car.specs()"
   ]
  },
  {
   "cell_type": "code",
   "execution_count": 11,
   "metadata": {},
   "outputs": [
    {
     "name": "stdout",
     "output_type": "stream",
     "text": [
      "Civic\n",
      "2021\n"
     ]
    }
   ],
   "source": [
    "#Private class attribute:\n",
    "class Sedan():\n",
    "    def __init__(self, name, model):\n",
    "        self.name = name\n",
    "        self.__model = model\n",
    "\n",
    "car2 = Sedan(\"Civic\", 2021)\n",
    "print(car2.name)\n",
    "print(car2._Sedan__model)\n",
    "# name mangling\n",
    "# To access private class attribute, we perform the name mangling function by writing the class name with single underscore and attribute with doublle underscore. "
   ]
  },
  {
   "cell_type": "code",
   "execution_count": null,
   "metadata": {},
   "outputs": [],
   "source": [
    "from abc import ABC, abstractmethod\n",
    "class Vehicle():\n",
    "    def __init__(self, name, make, model, variant):\n",
    "        self.name = name\n",
    "        self.make = make \n",
    "        self.model = model\n",
    "        self.variant = variant\n",
    "\n",
    "    @abstractmethod\n",
    "    def specs():\n",
    "        "
   ]
  },
  {
   "cell_type": "code",
   "execution_count": 6,
   "metadata": {},
   "outputs": [
    {
     "name": "stdout",
     "output_type": "stream",
     "text": [
      "4\n",
      "{'name': 'Corolla Cross', 'make': 'Toyota', 'model': 2021}\n",
      "{'name': 'Skyline', 'make': 'Nissan', 'model': 2023}\n",
      "2\n"
     ]
    }
   ],
   "source": [
    "# Class Variable:\n",
    "class Car():\n",
    "    number_of_wheels = 4\n",
    "    number_of_cars = 0\n",
    "\n",
    "    def __init__(self, name, make, model):\n",
    "        # Instance variable  \n",
    "        self.name = name\n",
    "        self.make = make\n",
    "        self.model = model\n",
    "        Car.number_of_cars +=1\n",
    "\n",
    "# Accessing class variable : \n",
    "print(Car.number_of_wheels)\n",
    "\n",
    "# Creating instances \n",
    "car1 = Car('Corolla Cross', 'Toyota', 2021)\n",
    "car2 = Car('Skyline', 'Nissan', 2023)\n",
    "print(car1.__dict__)\n",
    "print(car2.__dict__)\n",
    "print(Car.number_of_cars)"
   ]
  },
  {
   "cell_type": "code",
   "execution_count": 6,
   "metadata": {},
   "outputs": [
    {
     "name": "stdout",
     "output_type": "stream",
     "text": [
      "Total orders :3\n"
     ]
    }
   ],
   "source": [
    "# Class Methods :\n",
    "# Just like class variables, we can make methods for a class:\n",
    "class Vehicle():\n",
    "    number_of_vehicles = 0\n",
    "    number_of_orders = 0\n",
    "    \n",
    "    def __init__(self, name, model):\n",
    "        self.name = name \n",
    "        self.model = model\n",
    "        Vehicle.number_of_vehicles += 1\n",
    "        Vehicle.number_of_orders += 1\n",
    "\n",
    "    @classmethod\n",
    "    def get_num_of_orders(cls):\n",
    "        print(f'Total orders :{Vehicle.number_of_orders}')\n",
    "\n",
    "\n",
    "car1 = Vehicle('G-Wagon', 'Toyota')\n",
    "car2 = Vehicle('Corolla Cross', 'Toyota')\n",
    "car3 = Vehicle('Tacoma', 'Toyota')\n",
    "Vehicle.get_num_of_orders()\n"
   ]
  },
  {
   "cell_type": "markdown",
   "metadata": {},
   "source": [
    "In the upper code, we have  practiced Class methods with class variables."
   ]
  },
  {
   "cell_type": "code",
   "execution_count": 16,
   "metadata": {},
   "outputs": [
    {
     "name": "stdout",
     "output_type": "stream",
     "text": [
      "25\n",
      "10\n",
      "6\n",
      "10\n"
     ]
    }
   ],
   "source": [
    "# This is a class of calculator with arithmetic methods:\n",
    "class Calc():\n",
    "    @classmethod\n",
    "    def add(a, b):\n",
    "        return a + b\n",
    "    \n",
    "    def sub(a, b):\n",
    "        return a - b\n",
    "    def multiply(a, b):\n",
    "        return a * b\n",
    "    def div(a, b):\n",
    "        return a // b\n",
    "\n",
    "Calculator = Calc()\n",
    "\n",
    "print(Calc.add(12, 13))\n",
    "\n",
    "print(Calc.sub(50, 40))\n",
    "\n",
    "print(Calculator.multiply(2, 3))\n",
    "\n",
    "print(Calculator.div(50, 5))"
   ]
  }
 ],
 "metadata": {
  "kernelspec": {
   "display_name": "Python 3",
   "language": "python",
   "name": "python3"
  },
  "language_info": {
   "codemirror_mode": {
    "name": "ipython",
    "version": 3
   },
   "file_extension": ".py",
   "mimetype": "text/x-python",
   "name": "python",
   "nbconvert_exporter": "python",
   "pygments_lexer": "ipython3",
   "version": "3.12.7"
  }
 },
 "nbformat": 4,
 "nbformat_minor": 2
}
