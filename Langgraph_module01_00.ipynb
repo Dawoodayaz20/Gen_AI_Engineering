{
  "nbformat": 4,
  "nbformat_minor": 0,
  "metadata": {
    "colab": {
      "provenance": [],
      "authorship_tag": "ABX9TyMvnEjuOsyohwbOXINuTuy7",
      "include_colab_link": true
    },
    "kernelspec": {
      "name": "python3",
      "display_name": "Python 3"
    },
    "language_info": {
      "name": "python"
    }
  },
  "cells": [
    {
      "cell_type": "markdown",
      "metadata": {
        "id": "view-in-github",
        "colab_type": "text"
      },
      "source": [
        "<a href=\"https://colab.research.google.com/github/Dawoodayaz20/Gen_AI_Engineering/blob/main/Langgraph_module01_00.ipynb\" target=\"_parent\"><img src=\"https://colab.research.google.com/assets/colab-badge.svg\" alt=\"Open In Colab\"/></a>"
      ]
    },
    {
      "cell_type": "markdown",
      "source": [
        "These are edges. Edges connect the nodes"
      ],
      "metadata": {
        "id": "5oMiHWLEd-1A"
      }
    },
    {
      "cell_type": "code",
      "execution_count": 1,
      "metadata": {
        "id": "p4hxdfauGfmj"
      },
      "outputs": [],
      "source": [
        "%%capture --no-stderr\n",
        "!pip install --quiet -U langgraph"
      ]
    },
    {
      "cell_type": "code",
      "source": [
        "from typing_extensions import TypedDict\n",
        "class LearningState(TypedDict):\n",
        "  prompt : str\n",
        "\n",
        "lahore_state : LearningState = LearningState(prompt=\"Hello World from Lahore\")\n",
        "\n",
        "print(lahore_state)\n",
        "print(type(lahore_state))\n",
        "print(lahore_state['prompt'] + 'I am')\n"
      ],
      "metadata": {
        "colab": {
          "base_uri": "https://localhost:8080/"
        },
        "id": "VVb1Lk62G77-",
        "outputId": "9cfed8fb-dff2-4aa2-aa26-26b72c96eefa"
      },
      "execution_count": 3,
      "outputs": [
        {
          "output_type": "stream",
          "name": "stdout",
          "text": [
            "{'prompt': 'Hello World from Lahore'}\n",
            "<class 'dict'>\n",
            "Hello World from LahoreI am\n"
          ]
        }
      ]
    },
    {
      "cell_type": "markdown",
      "source": [
        "Nodes are just python functions.\n",
        "The first positional argument is the state, as defined above.\n",
        "Because the state is a TypedDict with schema as defined above, each node can access the key, graph_state, with state['graph_state'].\n",
        "Each node returns a new value of the state key graph_state.\n",
        "By default, the new value returned by each node will override the prior state value."
      ],
      "metadata": {
        "id": "0E_u0RfFAv3i"
      }
    },
    {
      "cell_type": "code",
      "source": [
        "def node_1(state: LearningState) -> LearningState:\n",
        "    print(\"---Node 1 State---\", state)\n",
        "    return {\"prompt\": state['prompt'] +\" I am\"}\n",
        "\n",
        "def node_2(state: LearningState) -> LearningState:\n",
        "    print(\"---Node 2 State---\", state)\n",
        "    return {\"prompt\": state['prompt'] +\" happy!\"}"
      ],
      "metadata": {
        "id": "crINr4VxaAmj"
      },
      "execution_count": 4,
      "outputs": []
    },
    {
      "cell_type": "markdown",
      "source": [
        "Graph Construction:\n",
        "The StateGraph class is the graph class that we can use.\n",
        "\n",
        "First, we initialize a StateGraph with the State class we defined above.\n",
        "\n",
        "Then, we add our nodes and edges.\n",
        "\n",
        "We use the START Node, a special node that sends user input to the graph, to indicate where to start our graph.\n",
        "\n",
        "The END Node is a special node that represents a terminal node.\n",
        "\n",
        "Finally, we compile our graph to perform a few basic checks on the graph structure.\n",
        "\n",
        "We can visualize the graph as a Mermaid diagram.\n"
      ],
      "metadata": {
        "id": "nvo6MyUXdx-9"
      }
    },
    {
      "cell_type": "code",
      "source": [
        "from IPython.display import Image, display # Preview Graph\n",
        "\n",
        "from langgraph.graph import StateGraph, START, END\n",
        "from langgraph.graph.state import CompiledStateGraph #type\n",
        "\n",
        "#Build graph\n",
        "builder: StateGraph = StateGraph(state_schema=LearningState)\n",
        "\n",
        "print(type(builder))"
      ],
      "metadata": {
        "id": "ui5ca1OeeNuP",
        "colab": {
          "base_uri": "https://localhost:8080/"
        },
        "outputId": "117d1bf3-e744-4261-e915-9a1e9968119a"
      },
      "execution_count": 5,
      "outputs": [
        {
          "output_type": "stream",
          "name": "stdout",
          "text": [
            "<class 'langgraph.graph.state.StateGraph'>\n"
          ]
        }
      ]
    },
    {
      "cell_type": "markdown",
      "source": [
        "builder builds the graph."
      ],
      "metadata": {
        "id": "KVOd5W1-4ioE"
      }
    },
    {
      "cell_type": "code",
      "source": [
        "builder.add_node(\"node_1\", node_1)\n",
        "builder.add_node(\"node_2\", node_2)"
      ],
      "metadata": {
        "colab": {
          "base_uri": "https://localhost:8080/"
        },
        "id": "YaemiqQ7X8EU",
        "outputId": "749a2a09-9dcd-4c27-8481-53d054da9558"
      },
      "execution_count": 6,
      "outputs": [
        {
          "output_type": "execute_result",
          "data": {
            "text/plain": [
              "<langgraph.graph.state.StateGraph at 0x7e68f34b7070>"
            ]
          },
          "metadata": {},
          "execution_count": 6
        }
      ]
    },
    {
      "cell_type": "code",
      "source": [
        "builder.add_edge(START, \"node_1\")\n",
        "builder.add_edge(\"node_1\", \"node_2\")\n",
        "builder.add_edge(\"node_2\", END)"
      ],
      "metadata": {
        "colab": {
          "base_uri": "https://localhost:8080/"
        },
        "id": "nTCgYa3NYygO",
        "outputId": "a9796368-1bd2-42f2-83e0-efead404ebc4"
      },
      "execution_count": 7,
      "outputs": [
        {
          "output_type": "execute_result",
          "data": {
            "text/plain": [
              "<langgraph.graph.state.StateGraph at 0x7e68f34b7070>"
            ]
          },
          "metadata": {},
          "execution_count": 7
        }
      ]
    },
    {
      "cell_type": "code",
      "source": [
        "graph: CompiledStateGraph = builder.compile()\n",
        "print(graph)\n",
        "print(graph.get_graph())"
      ],
      "metadata": {
        "colab": {
          "base_uri": "https://localhost:8080/"
        },
        "id": "dk2Q5GyaZBPh",
        "outputId": "996a9182-35b2-49fd-bc2e-0ac050ec5488"
      },
      "execution_count": 8,
      "outputs": [
        {
          "output_type": "stream",
          "name": "stdout",
          "text": [
            "<langgraph.graph.state.CompiledStateGraph object at 0x7e68d5b94430>\n",
            "Graph(nodes={'__start__': Node(id='__start__', name='__start__', data=<class 'langchain_core.utils.pydantic.LangGraphInput'>, metadata=None), 'node_1': Node(id='node_1', name='node_1', data=node_1(tags=None, recurse=True, func_accepts_config=False, func_accepts={'writer': False, 'store': False}), metadata=None), 'node_2': Node(id='node_2', name='node_2', data=node_2(tags=None, recurse=True, func_accepts_config=False, func_accepts={'writer': False, 'store': False}), metadata=None), '__end__': Node(id='__end__', name='__end__', data=<class 'langchain_core.utils.pydantic.LangGraphOutput'>, metadata=None)}, edges=[Edge(source='__start__', target='node_1', data=None, conditional=False), Edge(source='node_1', target='node_2', data=None, conditional=False), Edge(source='node_2', target='__end__', data=None, conditional=False)])\n"
          ]
        }
      ]
    },
    {
      "cell_type": "code",
      "source": [
        "from IPython.display import Image, display\n",
        "display(Image(graph.get_graph().draw_mermaid_png()))"
      ],
      "metadata": {
        "colab": {
          "base_uri": "https://localhost:8080/",
          "height": 350
        },
        "id": "UGzwyjBCZX0a",
        "outputId": "4e22d910-7e13-4ede-972d-7ac5d5a92ab6"
      },
      "execution_count": 9,
      "outputs": [
        {
          "output_type": "display_data",
          "data": {
            "image/png": "[encoded data removed]",
            "text/plain": [
              "<IPython.core.display.Image object>"
            ]
          },
          "metadata": {}
        }
      ]
    },
    {
      "cell_type": "markdown",
      "source": [
        "Graph Invocation:\n",
        "The compiled graph implements the runnable protocol.\n",
        "invoke is one of the standard methods in this interface.\n",
        "The input is a dictionary {\"graph_state\": \"Hi, this is lance.\"}, which sets the initial value for our graph state dict.\n",
        "When invoke is called, the graph starts execution from the START node.\n",
        "The execution continues through the defined nodes until it reaches the END node."
      ],
      "metadata": {
        "id": "T08GqzcN4R1z"
      }
    },
    {
      "cell_type": "code",
      "source": [
        "graph.invoke({\"prompt\": \"Hi\"})"
      ],
      "metadata": {
        "colab": {
          "base_uri": "https://localhost:8080/"
        },
        "id": "GTLD4zITZkYi",
        "outputId": "04f38892-c967-462a-f0e1-ead1524cc7b3"
      },
      "execution_count": 10,
      "outputs": [
        {
          "output_type": "stream",
          "name": "stdout",
          "text": [
            "---Node 1 State--- {'prompt': 'Hi'}\n",
            "---Node 2 State--- {'prompt': 'Hi I am'}\n"
          ]
        },
        {
          "output_type": "execute_result",
          "data": {
            "text/plain": [
              "{'prompt': 'Hi I am happy!'}"
            ]
          },
          "metadata": {},
          "execution_count": 10
        }
      ]
    },
    {
      "cell_type": "markdown",
      "source": [
        "Task: In Nodes Use LLM == GoogleCHATModel in LangChain\n"
      ],
      "metadata": {
        "id": "W5JT_2R-7WNm"
      }
    },
    {
      "cell_type": "code",
      "source": [
        "!pip install -q -U langchain\n",
        "!pip install -q -U langchain-google-genai"
      ],
      "metadata": {
        "colab": {
          "base_uri": "https://localhost:8080/"
        },
        "id": "Y7tyus6S6wc_",
        "outputId": "65f921da-4d7f-4242-82ae-f6c8e6e61de8"
      },
      "execution_count": 11,
      "outputs": [
        {
          "output_type": "stream",
          "name": "stdout",
          "text": [
            "\u001b[?25l   \u001b[90m━━━━━━━━━━━━━━━━━━━━━━━━━━━━━━━━━━━━━━━━\u001b[0m \u001b[32m0.0/1.0 MB\u001b[0m \u001b[31m?\u001b[0m eta \u001b[36m-:--:--\u001b[0m\r\u001b[2K   \u001b[91m━━━━━━━\u001b[0m\u001b[91m╸\u001b[0m\u001b[90m━━━━━━━━━━━━━━━━━━━━━━━━━━━━━━━━\u001b[0m \u001b[32m0.2/1.0 MB\u001b[0m \u001b[31m5.6 MB/s\u001b[0m eta \u001b[36m0:00:01\u001b[0m\r\u001b[2K   \u001b[91m━━━━━━━━━━━━━━━━━━━━━━━━━━━━━━━━━━━━━━━\u001b[0m\u001b[91m╸\u001b[0m \u001b[32m1.0/1.0 MB\u001b[0m \u001b[31m16.3 MB/s\u001b[0m eta \u001b[36m0:00:01\u001b[0m\r\u001b[2K   \u001b[90m━━━━━━━━━━━━━━━━━━━━━━━━━━━━━━━━━━━━━━━━\u001b[0m \u001b[32m1.0/1.0 MB\u001b[0m \u001b[31m11.6 MB/s\u001b[0m eta \u001b[36m0:00:00\u001b[0m\n",
            "\u001b[2K   \u001b[90m━━━━━━━━━━━━━━━━━━━━━━━━━━━━━━━━━━━━━━━━\u001b[0m \u001b[32m411.6/411.6 kB\u001b[0m \u001b[31m17.3 MB/s\u001b[0m eta \u001b[36m0:00:00\u001b[0m\n",
            "\u001b[2K   \u001b[90m━━━━━━━━━━━━━━━━━━━━━━━━━━━━━━━━━━━━━━━━\u001b[0m \u001b[32m41.3/41.3 kB\u001b[0m \u001b[31m1.5 MB/s\u001b[0m eta \u001b[36m0:00:00\u001b[0m\n",
            "\u001b[?25h"
          ]
        }
      ]
    },
    {
      "cell_type": "code",
      "source": [
        "from google.colab import userdata\n",
        "google_api_key = userdata.get('api_key')"
      ],
      "metadata": {
        "id": "ursdjlUw7uUY"
      },
      "execution_count": 13,
      "outputs": []
    },
    {
      "cell_type": "code",
      "source": [
        "from langchain_google_genai import ChatGoogleGenerativeAI\n",
        "\n",
        "llm : ChatGoogleGenerativeAI = ChatGoogleGenerativeAI(\n",
        "    model = \"gemini-1.5-flash\",\n",
        "    api_key = google_api_key\n",
        ")"
      ],
      "metadata": {
        "id": "HIVC3r498AUV"
      },
      "execution_count": 14,
      "outputs": []
    },
    {
      "cell_type": "code",
      "source": [
        "from langchain_core.messages.ai import AIMessage\n",
        "\n",
        "ai_msg: AIMessage = llm.invoke(\"Hi?\")\n",
        "print(ai_msg.content)"
      ],
      "metadata": {
        "colab": {
          "base_uri": "https://localhost:8080/"
        },
        "id": "fVhyn73r8sSW",
        "outputId": "8c562675-25d4-4246-eedd-620fdc2d7206"
      },
      "execution_count": 15,
      "outputs": [
        {
          "output_type": "stream",
          "name": "stdout",
          "text": [
            "Hi there! How can I help you today?\n",
            "\n"
          ]
        }
      ]
    },
    {
      "cell_type": "code",
      "source": [
        "from typing_extensions import TypedDict\n",
        "\n",
        "class FirstLLMAgentCall(TypedDict):\n",
        "    prompt: str\n",
        "    output: str"
      ],
      "metadata": {
        "id": "OI8nm0yw8-lL"
      },
      "execution_count": 16,
      "outputs": []
    },
    {
      "cell_type": "code",
      "source": [
        "def node_1(state: FirstLLMAgentCall):\n",
        "    print(\"---Node 1---\", state)\n",
        "    prompt = state[\"prompt\"]\n",
        "    ai_msg: AIMessage = llm.invoke(prompt)\n",
        "    return {\"output\": ai_msg.content}\n"
      ],
      "metadata": {
        "id": "DZcptVOX-BFI"
      },
      "execution_count": 18,
      "outputs": []
    },
    {
      "cell_type": "code",
      "source": [
        "zeeshan_bhai_greet_message = node_1(FirstLLMAgentCall(prompt=\"Hello from UMT\"))\n",
        "print(zeeshan_bhai_greet_message)"
      ],
      "metadata": {
        "colab": {
          "base_uri": "https://localhost:8080/"
        },
        "id": "Mm6MZG4C-NY9",
        "outputId": "b36d6dc9-9ac5-47af-e5c8-0ac8a74d286c"
      },
      "execution_count": 19,
      "outputs": [
        {
          "output_type": "stream",
          "name": "stdout",
          "text": [
            "---Node 1--- {'prompt': 'Hello from UMT'}\n",
            "{'output': 'Hello from here!  Is there anything I can help you with today?\\n'}\n"
          ]
        }
      ]
    }
  ]
}